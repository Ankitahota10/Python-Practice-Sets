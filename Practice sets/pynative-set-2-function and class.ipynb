{
 "cells": [
  {
   "cell_type": "code",
   "execution_count": 2,
   "metadata": {},
   "outputs": [
    {
     "name": "stdout",
     "output_type": "stream",
     "text": [
      "Enter your name:Smiley\n",
      "Name is= Smiley\n"
     ]
    }
   ],
   "source": [
    "def print_name(name):\n",
    "    print('Name is=', name)\n",
    "\n",
    "nam= input(\"Enter your name:\")\n",
    "print_name(nam)"
   ]
  },
  {
   "cell_type": "code",
   "execution_count": 11,
   "metadata": {},
   "outputs": [
    {
     "name": "stdout",
     "output_type": "stream",
     "text": [
      "81\n",
      "[1, 4, 9, 16, 25, 1, 4]\n",
      "[-1, -2]\n",
      "24\n"
     ]
    }
   ],
   "source": [
    "ans= (lambda x:x**2)\n",
    "print(ans(9))\n",
    "\n",
    "item=[1,2,3,4,5,-1,-2]\n",
    "sq= list(map(lambda x:x**2,item))\n",
    "print(sq)\n",
    "\n",
    "neg= list(filter(lambda x:x<0,item))\n",
    "print(neg)\n",
    "\n",
    "from functools import reduce\n",
    "prod= reduce(lambda x,y:x*y,[1,2,3,4])\n",
    "print(prod)"
   ]
  },
  {
   "cell_type": "code",
   "execution_count": 19,
   "metadata": {},
   "outputs": [
    {
     "name": "stdout",
     "output_type": "stream",
     "text": [
      "name: ankita  age: 30\n",
      "name: abc  age: 24\n",
      "name: 25  age: abc\n"
     ]
    }
   ],
   "source": [
    "def info(name, age=30):\n",
    "    print('name:',name,' age:',age)\n",
    "info('ankita')\n",
    "info('abc',age=24)\n",
    "info(25,'abc"
   ]
  },
  {
   "cell_type": "code",
   "execution_count": 6,
   "metadata": {},
   "outputs": [
    {
     "name": "stdout",
     "output_type": "stream",
     "text": [
      "color is red\n"
     ]
    }
   ],
   "source": [
    "class test():\n",
    "    def color(self, col):\n",
    "        self.col=col\n",
    "    def show(self):\n",
    "        print('color is',self.col)\n",
    "test1=test()\n",
    "test1.color('red')\n",
    "test1.show()"
   ]
  },
  {
   "cell_type": "code",
   "execution_count": 2,
   "metadata": {},
   "outputs": [
    {
     "name": "stdout",
     "output_type": "stream",
     "text": [
      "70\n",
      "69\n",
      "56\n"
     ]
    }
   ],
   "source": [
    "#Write a function func1() such that it can accept a variable length of  argument and print all arguments value\n",
    "def func1(*arg):\n",
    "    for i in arg:\n",
    "        print(i)\n",
    "func1(70,69,56)"
   ]
  },
  {
   "cell_type": "code",
   "execution_count": 3,
   "metadata": {},
   "outputs": [
    {
     "data": {
      "text/plain": [
       "(14, -2)"
      ]
     },
     "execution_count": 3,
     "metadata": {},
     "output_type": "execute_result"
    }
   ],
   "source": [
    "'''Write a function calculation() such that it can accept two variables and calculate the addition and subtraction of it.\n",
    "And also it must return both addition and subtraction in a single return call'''\n",
    "def calculation(a,b):\n",
    "    summ=a+b\n",
    "    diff=a-b\n",
    "    return(summ,diff)\n",
    "calculation(6,8)"
   ]
  },
  {
   "cell_type": "code",
   "execution_count": 4,
   "metadata": {},
   "outputs": [
    {
     "name": "stdout",
     "output_type": "stream",
     "text": [
      "Name= Ben Salary= 8000\n",
      "Name= Cathy Salary= 9000\n"
     ]
    }
   ],
   "source": [
    "'''Create a function showEmployee() in such a way that it should accept employee name,\n",
    "and it’s salary and display both, and if the salary is missing in function call it should show it as 9000'''\n",
    "def showEmployee(ename, esal=9000):\n",
    "    print(\"Name=\",ename,'Salary=',esal)\n",
    "showEmployee('Ben',8000)\n",
    "showEmployee('Cathy')"
   ]
  },
  {
   "cell_type": "code",
   "execution_count": 9,
   "metadata": {},
   "outputs": [
    {
     "name": "stdout",
     "output_type": "stream",
     "text": [
      "Inside inner func: a= 5 , b= 10\n",
      "Inside outer func: add= 15\n"
     ]
    },
    {
     "data": {
      "text/plain": [
       "20"
      ]
     },
     "execution_count": 9,
     "metadata": {},
     "output_type": "execute_result"
    }
   ],
   "source": [
    "'''Create an inner function to calculate the addition in the following way\n",
    "Create an outer function that will accept two parameters a and b\n",
    "Create an inner function inside an outer function that will calculate the addition of a and b\n",
    "At last, an outer function will add 5 into addition and return it'''\n",
    "def outerfunc(a,b):\n",
    "    def innerfunc(a,b):\n",
    "        print('Inside inner func: a=',a,', b=',b)\n",
    "        return(a+b)\n",
    "    add=innerfunc(a,b)\n",
    "    print('Inside outer func: add=',add)\n",
    "    return(add+5)\n",
    "\n",
    "outerfunc(5,10)"
   ]
  },
  {
   "cell_type": "code",
   "execution_count": 11,
   "metadata": {},
   "outputs": [
    {
     "name": "stdout",
     "output_type": "stream",
     "text": [
      "Emma 26\n",
      "show student= Emma 26\n"
     ]
    }
   ],
   "source": [
    "def displayStudent(name, age):\n",
    "    print(name, age)\n",
    "\n",
    "displayStudent(\"Emma\", 26)\n",
    "\n",
    "showStudent = displayStudent\n",
    "showStudent(\"show student= Emma\", 26)"
   ]
  },
  {
   "cell_type": "code",
   "execution_count": 12,
   "metadata": {},
   "outputs": [
    {
     "data": {
      "text/plain": [
       "55"
      ]
     },
     "execution_count": 12,
     "metadata": {},
     "output_type": "execute_result"
    }
   ],
   "source": [
    "def recursivefunc(num):\n",
    "    if num:\n",
    "        return (num+recursivefunc(num-1))\n",
    "    else:\n",
    "        return(0)\n",
    "recursivefunc(10)"
   ]
  },
  {
   "cell_type": "code",
   "execution_count": 14,
   "metadata": {},
   "outputs": [
    {
     "data": {
      "text/plain": [
       "[4, 6, 8, 10, 12, 14, 16, 18, 20, 22, 24, 26, 28, 30]"
      ]
     },
     "execution_count": 14,
     "metadata": {},
     "output_type": "execute_result"
    }
   ],
   "source": [
    "#Generate a Python list of all the even numbers between 4 to 30\n",
    "# def listfunc():\n",
    "#     l1=[]\n",
    "#     for i in range(4,31):\n",
    "#         if i%2==0:\n",
    "#             l1.append(i)\n",
    "#         else:\n",
    "#             pass\n",
    "#     return(l1)\n",
    "# listfunc()\n",
    "\n",
    "def listfunc():\n",
    "    return(list(range(4,31,2)))\n",
    "listfunc()"
   ]
  },
  {
   "cell_type": "code",
   "execution_count": 15,
   "metadata": {},
   "outputs": [
    {
     "name": "stdout",
     "output_type": "stream",
     "text": [
      "24\n"
     ]
    }
   ],
   "source": [
    "'''Return the largest item from the given list'''\n",
    "aList = [4, 6, 8, 24, 12, 2]\n",
    "print(max(aList))"
   ]
  },
  {
   "cell_type": "markdown",
   "metadata": {},
   "source": [
    "# String Exercise"
   ]
  },
  {
   "cell_type": "code",
   "execution_count": 26,
   "metadata": {},
   "outputs": [
    {
     "name": "stdout",
     "output_type": "stream",
     "text": [
      "Enter string:JhonDipPeta\n",
      "Dip\n"
     ]
    }
   ],
   "source": [
    "'''Given a string of odd length greater 7, return a string made of the middle three chars of a given String\n",
    "Case 1:\n",
    "\n",
    "str1 = \"JhonDipPeta\"\n",
    "Expected Output:\n",
    "\n",
    "Dip\n",
    "Case 2:\n",
    "\n",
    "str2 = \"JaSonAy\"\n",
    "Expected Output:\n",
    "\n",
    "Son'''\n",
    "\n",
    "str1= input(\"Enter string:\")\n",
    "if len(str1)>=7:\n",
    "    mid=round(len(str1)/2)-2\n",
    "    word=str1[mid:mid+3]\n",
    "print(word)"
   ]
  },
  {
   "cell_type": "code",
   "execution_count": 30,
   "metadata": {},
   "outputs": [
    {
     "name": "stdout",
     "output_type": "stream",
     "text": [
      "AuKellylt\n"
     ]
    }
   ],
   "source": [
    "'''Given 2 strings, s1 and s2, create a new string by appending s2 in the middle of s1\n",
    "s1 = \"Ault\"\n",
    "s2 = \"Kelly\"\n",
    "Expected Output:\n",
    "\n",
    "AuKellylt'''\n",
    "s1 = \"Ault\"\n",
    "s2 = \"Kelly\"\n",
    "mid= round(len(s1)/2)\n",
    "s3= s1[:mid]+s2+s1[mid:]\n",
    "print(s3)"
   ]
  },
  {
   "cell_type": "code",
   "execution_count": 45,
   "metadata": {},
   "outputs": [
    {
     "name": "stdout",
     "output_type": "stream",
     "text": [
      "Enter string:PyNaTive\n",
      "yaivePNT\n"
     ]
    }
   ],
   "source": [
    "'''Arrange string characters such that lowercase letters should come first\n",
    "str1 = PyNaTive\n",
    "Expected Output:yaivePNT'''\n",
    "str1= input(\"Enter string:\")\n",
    "lower=[]\n",
    "upper=[]\n",
    "for i in str1:\n",
    "    if i.islower():\n",
    "        lower.append(i)\n",
    "    else:\n",
    "        upper.append(i)\n",
    "newstr= ''.join(lower+upper)\n",
    "print(newstr)"
   ]
  },
  {
   "cell_type": "code",
   "execution_count": 47,
   "metadata": {},
   "outputs": [
    {
     "name": "stdout",
     "output_type": "stream",
     "text": [
      "Enter string:P@#yn26at^&i5ve\n",
      "lower case= 7\n",
      "upper case= 1\n",
      "digits= 3\n",
      "symbols= 4\n"
     ]
    }
   ],
   "source": [
    "#Count all lower case, upper case, digits, and special symbols from a given string\n",
    "str=input(\"Enter string:\")\n",
    "cnt_lc=0\n",
    "cnt_uc=0\n",
    "cnt_dig=0\n",
    "cnt_sym=0\n",
    "for i in str:\n",
    "    if i.islower():\n",
    "        cnt_lc+=1\n",
    "    elif i.isupper():\n",
    "        cnt_uc+=1\n",
    "    elif i.isdigit():\n",
    "        cnt_dig+=1\n",
    "    else:\n",
    "        cnt_sym+=1\n",
    "print('lower case=',cnt_lc)\n",
    "print('upper case=', cnt_uc)\n",
    "print('digits=', cnt_dig)\n",
    "print('symbols=',cnt_sym)"
   ]
  },
  {
   "cell_type": "code",
   "execution_count": 65,
   "metadata": {},
   "outputs": [
    {
     "name": "stdout",
     "output_type": "stream",
     "text": [
      "Enter 1st string=abcd\n",
      "Enter 2nd string=xyz\n",
      "azbycx\n"
     ]
    }
   ],
   "source": [
    "'''Given two strings, s1 and s2, create a mixed String\n",
    "s1 = \"Abc\"\n",
    "s2 = \"Xyz\"\n",
    "Expected Output: AzbycX'''\n",
    "s1= input(\"Enter 1st string=\")\n",
    "s2= input(\"Enter 2nd string=\")\n",
    "new_str=''\n",
    "reverse_s2= s2[::-1]\n",
    "for i in s1:\n",
    "    for j in reverse_s2:\n",
    "        if s1.index(i)==reverse_s2.index(j):\n",
    "            new_str= new_str+i+j\n",
    "    \n",
    "print(new_str)"
   ]
  },
  {
   "cell_type": "code",
   "execution_count": 2,
   "metadata": {},
   "outputs": [
    {
     "name": "stdout",
     "output_type": "stream",
     "text": [
      "Enter string1=yn\n",
      "Enter string2=hjl\n",
      "Not Balanced\n"
     ]
    }
   ],
   "source": [
    "'''We’ll say that a String s1 and s2 is balanced if all the chars in the s1 are there in s2. characters position doesn’t matter.\n",
    "\n",
    "Case 1:\n",
    "\n",
    "s1 = \"Yn\"\n",
    "s2 = \"PYnative\"\n",
    "Expected Output:\n",
    "\n",
    "True\n",
    "Case 2:\n",
    "\n",
    "s1 = \"Ynf\"\n",
    "s2 = \"PYnative\"\n",
    "Expected Output:\n",
    "\n",
    "False'''\n",
    "s1= input(\"Enter string1=\")\n",
    "s2= input(\"Enter string2=\")\n",
    "if set(s1).issubset(set(s2)):\n",
    "    print('Balanced')\n",
    "else:\n",
    "    print(\"Not Balanced\")"
   ]
  },
  {
   "cell_type": "code",
   "execution_count": 14,
   "metadata": {},
   "outputs": [
    {
     "name": "stdout",
     "output_type": "stream",
     "text": [
      "Enter string:Welcome to USA. usa awesome, isn't it?\n",
      "2\n"
     ]
    }
   ],
   "source": [
    "''' Find all occurrences of “USA” in given string ignoring the case\n",
    "Given:\n",
    "\n",
    "str1 = \"Welcome to USA. usa awesome, isn't it?\"\n",
    "\n",
    "Expected Outcome:\n",
    "\n",
    "The USA count is: 2'''\n",
    "import re\n",
    "str1=input(\"Enter string:\")\n",
    "lower_str1=str1.lower()\n",
    "count= lower_str1.count('usa')\n",
    "print(count)\n"
   ]
  },
  {
   "cell_type": "code",
   "execution_count": 13,
   "metadata": {},
   "outputs": [
    {
     "name": "stdout",
     "output_type": "stream",
     "text": [
      "Enter string=English = 78 Science = 83 Math = 68 History = 65\n",
      "Sum= 294\n",
      "Average =  73.5\n"
     ]
    }
   ],
   "source": [
    "'''Given a string, return the sum and average of the digits that appear in the string, ignoring all other characters\n",
    "Given:\n",
    "\n",
    "str1 = \"English = 78 Science = 83 Math = 68 History = 65\"\n",
    "\n",
    "Expected Outcome:\n",
    "\n",
    "sum is 294\n",
    "average is 73.5'''\n",
    "import re\n",
    "str1= input(\"Enter string=\")\n",
    "markList = [int(num) for num in re.findall(r'\\d+', str1)]\n",
    "sum= 0\n",
    "for mark in markList:\n",
    "    sum+=mark\n",
    "print('Sum=', sum)\n",
    "avg= sum/len(markList)\n",
    "print('Average = ',avg)"
   ]
  },
  {
   "cell_type": "code",
   "execution_count": 18,
   "metadata": {},
   "outputs": [
    {
     "name": "stdout",
     "output_type": "stream",
     "text": [
      "Enter string=mississippi\n",
      "['m', 'i', 's', 's', 'i', 's', 's', 'i', 'p', 'p', 'i']\n",
      "{'m': 1, 'i': 4, 's': 4, 'p': 2}\n"
     ]
    }
   ],
   "source": [
    "'''Given an input string, count occurrences of all characters within a string\n",
    "Given:\n",
    "\n",
    "str1 = \"Apple\"\n",
    "\n",
    "Expected Outcome:\n",
    "\n",
    "{'A': 1, 'p': 2, 'l': 1, 'e': 1}'''\n",
    "inp= input(\"Enter string=\")\n",
    "l1=[]\n",
    "d1={}\n",
    "for i in inp:\n",
    "    l1.append(i)\n",
    "print(l1)\n",
    "for i in l1:\n",
    "    cnt=l1.count(i)\n",
    "    d1[i]=cnt\n",
    "print(d1)"
   ]
  },
  {
   "cell_type": "code",
   "execution_count": 22,
   "metadata": {},
   "outputs": [
    {
     "name": "stdout",
     "output_type": "stream",
     "text": [
      "Enter string=apple\n",
      "elppa\n"
     ]
    }
   ],
   "source": [
    "#Reverse a given string\n",
    "st=input(\"Enter string=\")\n",
    "# rev=reversed(st)\n",
    "# rev_st=''\n",
    "# for i in rev:\n",
    "#     rev_st+=i\n",
    "# print(rev_st)\n",
    "rev=st[::-1]\n",
    "print(rev)"
   ]
  },
  {
   "cell_type": "code",
   "execution_count": 32,
   "metadata": {},
   "outputs": [
    {
     "name": "stdout",
     "output_type": "stream",
     "text": [
      "43\n"
     ]
    }
   ],
   "source": [
    "'''Find the last position of a substring “Emma” in a given string\n",
    "Given:\n",
    "\n",
    "str1 = \"Emma is a data scientist who knows Python. Emma works at google.\"'''\n",
    "str1 = \"Emma is a data scientist who knows Python. Emma works at google.\"\n",
    "emma=str1.rfind(\"Emma\")\n",
    "print(emma)"
   ]
  },
  {
   "cell_type": "code",
   "execution_count": 37,
   "metadata": {},
   "outputs": [
    {
     "name": "stdout",
     "output_type": "stream",
     "text": [
      "['Emma', 'is', 'a', 'data', 'scientist']\n",
      "Emma\n",
      "is\n",
      "a\n",
      "data\n",
      "scientist\n"
     ]
    }
   ],
   "source": [
    "'''Split a given string on hyphens into several substrings and display each substring\n",
    "Given:\n",
    "str1 = Emma-is-a-data-scientist\n",
    "\n",
    "Expected Output:\n",
    "\n",
    "Displaying each substring\n",
    "\n",
    "Emma\n",
    "is\n",
    "a\n",
    "data\n",
    "scientist'''\n",
    "str1= \"Emma-is-a-data-scientist\"\n",
    "st= str1.split('-')\n",
    "print(st)\n",
    "for i in st:\n",
    "    print(i)"
   ]
  },
  {
   "cell_type": "code",
   "execution_count": 38,
   "metadata": {},
   "outputs": [
    {
     "name": "stdout",
     "output_type": "stream",
     "text": [
      "['Emma', 'Jon', 'Kelly', 'Eric']\n"
     ]
    }
   ],
   "source": [
    "''' Remove empty strings from a list of strings\n",
    "Expected Output:\n",
    "\n",
    "Original list of sting\n",
    "['Emma', 'Jon', '', 'Kelly', None, 'Eric', '']\n",
    "\n",
    "After removing empty strings\n",
    "['Emma', 'Jon', 'Kelly', 'Eric']'''\n",
    "org=['Emma', 'Jon', '', 'Kelly', None, 'Eric', '']\n",
    "st=list(filter(None,org))\n",
    "print(st)"
   ]
  },
  {
   "cell_type": "code",
   "execution_count": 44,
   "metadata": {},
   "outputs": [
    {
     "name": "stdout",
     "output_type": "stream",
     "text": [
      "Original string is  /*Jon is @developer & musician\n",
      "New string is  Jon is developer  musician\n"
     ]
    }
   ],
   "source": [
    "'''Remove special symbols/Punctuation from a given string\n",
    "Given:\n",
    "\n",
    "str1 = \"/*Jon is @developer & musician\"\n",
    "Expected Output:\n",
    "\n",
    "“Jon is developer musician”'''\n",
    "# str1 = \"/*Jon is @developer & musician\"\n",
    "# new=''\n",
    "# for i in str1:\n",
    "#     if i.isalpha() or i.isspace():\n",
    "#         new+=i\n",
    "# print(new)\n",
    "\n",
    "import re\n",
    "\n",
    "str1 = \"/*Jon is @developer & musician\"\n",
    "print(\"Original string is \", str1)\n",
    "\n",
    "str2 = re.sub(r'[^\\w\\s]', '', str1)\n",
    "print(\"New string is \", str2)"
   ]
  },
  {
   "cell_type": "code",
   "execution_count": 47,
   "metadata": {},
   "outputs": [
    {
     "name": "stdout",
     "output_type": "stream",
     "text": [
      "Original string is  I am 25 years and 10 months old\n",
      "New string is  2510\n"
     ]
    }
   ],
   "source": [
    "'''Removal all the characters other than integers from string\n",
    "Given:\n",
    "\n",
    "I am 25 years and 10 months old\n",
    "Expected Output:\n",
    "\n",
    "2510'''\n",
    "import re\n",
    "\n",
    "str1 = \"I am 25 years and 10 months old\"\n",
    "print(\"Original string is \", str1)\n",
    "\n",
    "str2 = re.sub(r'[^\\d]', '', str1)\n",
    "print(\"New string is \", str2)"
   ]
  },
  {
   "cell_type": "code",
   "execution_count": 5,
   "metadata": {},
   "outputs": [
    {
     "name": "stdout",
     "output_type": "stream",
     "text": [
      "Emma25\n",
      "scientist50\n"
     ]
    }
   ],
   "source": [
    "'''Find words with both alphabets and numbers\n",
    "Given:\n",
    "\n",
    "str1 = \"Emma25 is Data scientist50 and AI Expert\"\n",
    "\n",
    "Expected Output:\n",
    "\n",
    "Emma25\n",
    "scientist50'''\n",
    "str1 = \"Emma25 is Data scientist50 and AI Expert\"\n",
    "split_str1= list(str1.split())\n",
    "for each in split_str1:\n",
    "    if each.isalpha() or each.isdigit():\n",
    "        pass\n",
    "    else:\n",
    "        print(each)\n",
    "        "
   ]
  },
  {
   "cell_type": "code",
   "execution_count": 15,
   "metadata": {},
   "outputs": [
    {
     "ename": "AttributeError",
     "evalue": "module 'random' has no attribute 'randfloat'",
     "output_type": "error",
     "traceback": [
      "\u001b[1;31m---------------------------------------------------------------------------\u001b[0m",
      "\u001b[1;31mAttributeError\u001b[0m                            Traceback (most recent call last)",
      "\u001b[1;32m<ipython-input-15-bc2d01659408>\u001b[0m in \u001b[0;36m<module>\u001b[1;34m\u001b[0m\n\u001b[0;32m      1\u001b[0m \u001b[1;32mimport\u001b[0m \u001b[0mrandom\u001b[0m\u001b[1;33m\u001b[0m\u001b[1;33m\u001b[0m\u001b[0m\n\u001b[1;32m----> 2\u001b[1;33m \u001b[0mrandom\u001b[0m\u001b[1;33m.\u001b[0m\u001b[0mrandfloat\u001b[0m\u001b[1;33m(\u001b[0m\u001b[1;36m20.5\u001b[0m\u001b[1;33m,\u001b[0m \u001b[1;36m50.5\u001b[0m\u001b[1;33m)\u001b[0m\u001b[1;33m\u001b[0m\u001b[1;33m\u001b[0m\u001b[0m\n\u001b[0m",
      "\u001b[1;31mAttributeError\u001b[0m: module 'random' has no attribute 'randfloat'"
     ]
    }
   ],
   "source": [
    "import random\n",
    "random.randfloat(20.5, 50.5)"
   ]
  }
 ],
 "metadata": {
  "kernelspec": {
   "display_name": "Python 3",
   "language": "python",
   "name": "python3"
  },
  "language_info": {
   "codemirror_mode": {
    "name": "ipython",
    "version": 3
   },
   "file_extension": ".py",
   "mimetype": "text/x-python",
   "name": "python",
   "nbconvert_exporter": "python",
   "pygments_lexer": "ipython3",
   "version": "3.7.6"
  }
 },
 "nbformat": 4,
 "nbformat_minor": 4
}
