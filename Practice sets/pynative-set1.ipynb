{
 "cells": [
  {
   "cell_type": "code",
   "execution_count": 3,
   "metadata": {},
   "outputs": [
    {
     "name": "stdin",
     "output_type": "stream",
     "text": [
      "Enter 1st Number: 1000\n",
      "Enter 2nd Number: 34\n"
     ]
    },
    {
     "name": "stdout",
     "output_type": "stream",
     "text": [
      "As  34000  is greater than 1000, sum is 1034\n"
     ]
    }
   ],
   "source": [
    "#Given a two integer numbers return their product and  if the product is greater than 1000, then return their sum\n",
    "num1= int(input(\"Enter 1st Number:\"))\n",
    "num2= int(input(\"Enter 2nd Number:\"))\n",
    "prod= num1*num2\n",
    "if prod>1000:\n",
    "    print(\"As \",prod,\" is greater than 1000, sum is\",num1+num2)\n",
    "else:\n",
    "    print(\"Product is \",prod)"
   ]
  },
  {
   "cell_type": "code",
   "execution_count": 5,
   "metadata": {},
   "outputs": [
    {
     "name": "stdin",
     "output_type": "stream",
     "text": [
      "Enter Starting range:  0\n",
      "Enter End range:  10\n"
     ]
    },
    {
     "name": "stdout",
     "output_type": "stream",
     "text": [
      "Current number 0 Previous number 0 Sum:0\n",
      "Current Number  1  Previous number  0  Sum: 1\n",
      "Current Number  2  Previous number  1  Sum: 3\n",
      "Current Number  3  Previous number  2  Sum: 5\n",
      "Current Number  4  Previous number  3  Sum: 7\n",
      "Current Number  5  Previous number  4  Sum: 9\n",
      "Current Number  6  Previous number  5  Sum: 11\n",
      "Current Number  7  Previous number  6  Sum: 13\n",
      "Current Number  8  Previous number  7  Sum: 15\n",
      "Current Number  9  Previous number  8  Sum: 17\n"
     ]
    }
   ],
   "source": [
    "#Given a range of first 10 numbers, Iterate from start number to the end number and print the sum of the current\n",
    "#number and previous number.\n",
    "num_range1 = int(input(\"Enter Starting range: \"))\n",
    "num_range2 = int(input(\"Enter End range: \"))\n",
    "for i in range(num_range1,num_range2):\n",
    "    if i==0:\n",
    "        print(\"Current number 0 Previous number 0 Sum:0\")\n",
    "    else:\n",
    "        print(\"Current Number \",i,' Previous number ',i-1,' Sum:',i+(i-1))"
   ]
  },
  {
   "cell_type": "code",
   "execution_count": 17,
   "metadata": {},
   "outputs": [
    {
     "name": "stdin",
     "output_type": "stream",
     "text": [
      "Enter string:  abcde\n"
     ]
    },
    {
     "name": "stdout",
     "output_type": "stream",
     "text": [
      "a\n",
      "c\n",
      "e\n"
     ]
    }
   ],
   "source": [
    "#Given a string, display only those characters which are present at an even index number.\n",
    "str1= input(\"Enter string: \")\n",
    "for i in range(0,len(str1),2):\n",
    "    print(str1[i])\n"
   ]
  },
  {
   "cell_type": "code",
   "execution_count": 27,
   "metadata": {},
   "outputs": [
    {
     "name": "stdout",
     "output_type": "stream",
     "text": [
      "False\n"
     ]
    }
   ],
   "source": [
    "## Given a list of numbers, return True if first and last number of a list is same\n",
    "list1=[10, 20, 30, 40, 10]\n",
    "list2=[10, 20, 30, 40, 50]\n",
    "if (list2[0]==list2[-1]):\n",
    "    print(\"True\")\n",
    "else:\n",
    "    print(\"False\")"
   ]
  },
  {
   "cell_type": "code",
   "execution_count": 28,
   "metadata": {},
   "outputs": [
    {
     "name": "stdout",
     "output_type": "stream",
     "text": [
      "10\n",
      "20\n",
      "55\n"
     ]
    }
   ],
   "source": [
    "#Given a list of numbers, Iterate it and print only those numbers which are divisible of 5\n",
    "list3=[10, 20, 33, 46, 55]\n",
    "for i in list3:\n",
    "    if i%5==0:\n",
    "        print(i)\n",
    "    else:\n",
    "        pass"
   ]
  },
  {
   "cell_type": "code",
   "execution_count": 30,
   "metadata": {
    "scrolled": true
   },
   "outputs": [
    {
     "name": "stdout",
     "output_type": "stream",
     "text": [
      "2\n"
     ]
    }
   ],
   "source": [
    "#Return the total count of sub-string “Emma” appears in the given string\n",
    "str2= \"Emma is good developer. Emma is a writer\"\n",
    "emma_cnt = str2.count(\"Emma\")\n",
    "print(emma_cnt)"
   ]
  },
  {
   "cell_type": "code",
   "execution_count": 48,
   "metadata": {},
   "outputs": [
    {
     "name": "stdout",
     "output_type": "stream",
     "text": [
      "\n",
      "\n",
      "1 \n",
      "\n",
      "2 2 \n",
      "\n",
      "3 3 3 \n",
      "\n",
      "4 4 4 4 \n",
      "\n",
      "5 5 5 5 5 \n",
      "\n"
     ]
    }
   ],
   "source": [
    "'''\n",
    "1 \n",
    "2 2 \n",
    "3 3 3 \n",
    "4 4 4 4 \n",
    "5 5 5 5 5'''\n",
    "for num in range(6):\n",
    "    for i in range(num):\n",
    "         print (num, end=\" \") \n",
    "    print(\"\\n\")\n",
    "        "
   ]
  },
  {
   "cell_type": "code",
   "execution_count": 13,
   "metadata": {},
   "outputs": [
    {
     "name": "stdin",
     "output_type": "stream",
     "text": [
      "Enter number:  787\n"
     ]
    },
    {
     "name": "stdout",
     "output_type": "stream",
     "text": [
      "78\n",
      "7\n",
      "0\n",
      "true\n"
     ]
    }
   ],
   "source": [
    "#Reverse a given number and return true if it is the same as the original number\n",
    "num2= int(input(\"Enter number: \"))\n",
    "rev_num=0\n",
    "org_num=num2\n",
    "while num2>0:\n",
    "    div = num2%10\n",
    "    rev_num=(rev_num*10)+div\n",
    "    num2=num2//10\n",
    "if org_num==rev_num:\n",
    "    print(\"true\")\n",
    "else:\n",
    "    print('false')"
   ]
  },
  {
   "cell_type": "code",
   "execution_count": 24,
   "metadata": {},
   "outputs": [
    {
     "name": "stdout",
     "output_type": "stream",
     "text": [
      "[23, 11, 17, 24, 36, 12]\n"
     ]
    }
   ],
   "source": [
    "#Given a two list of numbers create a new list such that new list should contain only odd numbers from the \n",
    "#first list and even numbers from the second list\n",
    "f_list=  [10, 20, 23, 11, 17]\n",
    "s_list = [13, 43, 24, 36, 12]\n",
    "result = []\n",
    "for i in f_list:\n",
    "    if i%2!=0:\n",
    "        result.append(i)\n",
    "for i in s_list:\n",
    "    if i%2==0:\n",
    "        result.append(i)\n",
    "print(result)"
   ]
  },
  {
   "cell_type": "code",
   "execution_count": 26,
   "metadata": {},
   "outputs": [
    {
     "name": "stdin",
     "output_type": "stream",
     "text": [
      "Enter number= 6780\n"
     ]
    },
    {
     "name": "stdout",
     "output_type": "stream",
     "text": [
      "0\n",
      "8\n",
      "7\n",
      "6\n"
     ]
    }
   ],
   "source": [
    "#Write a code to extract each digit from an integer, in the reverse order\n",
    "dig = int(input(\"Enter number=\"))\n",
    "while dig>0:\n",
    "    d= dig%10\n",
    "    print(d)\n",
    "    dig=dig//10"
   ]
  },
  {
   "cell_type": "code",
   "execution_count": 37,
   "metadata": {},
   "outputs": [
    {
     "name": "stdin",
     "output_type": "stream",
     "text": [
      "Enter your income= 25000\n"
     ]
    },
    {
     "name": "stdout",
     "output_type": "stream",
     "text": [
      "2000.0\n"
     ]
    }
   ],
   "source": [
    "'''12: Calculate income tax for the given income by adhering to the below rules\n",
    "Taxable Income\tRate (%)\n",
    "First $10,000\t0\n",
    "Next $10,000\t10\n",
    "The remaining\t20\n",
    "Expected Output:\n",
    "\n",
    "For example, suppose that the taxable income is $45000 the income tax payable is\n",
    "\n",
    "$10000*0% + $10000*10%  + $25000*20% = $6000.'''\n",
    "income = int(input(\"Enter your income=\"))\n",
    "tax=0\n",
    "if income>=10000:\n",
    "    rem1= income-10000\n",
    "    if rem1>=10000:\n",
    "        rem2=rem1-10000\n",
    "        if rem2>0:\n",
    "            tax = 1000+(rem2*0.2)\n",
    "    else:\n",
    "        tax = rem1*0.1\n",
    "print(tax)"
   ]
  },
  {
   "cell_type": "code",
   "execution_count": 57,
   "metadata": {},
   "outputs": [
    {
     "name": "stdout",
     "output_type": "stream",
     "text": [
      "1\t\t\n",
      "2\t\t\n",
      "3\t\t\n",
      "4\t\t\n",
      "5\t\t\n",
      "6\t\t\n",
      "7\t\t\n",
      "8\t\t\n",
      "9\t\t\n",
      "10\t\t\n",
      "\t\t\n",
      "2\t\t\n",
      "4\t\t\n",
      "6\t\t\n",
      "8\t\t\n",
      "10\t\t\n",
      "12\t\t\n",
      "14\t\t\n",
      "16\t\t\n",
      "18\t\t\n",
      "20\t\t\n",
      "\t\t\n",
      "3\t\t\n",
      "6\t\t\n",
      "9\t\t\n",
      "12\t\t\n",
      "15\t\t\n",
      "18\t\t\n",
      "21\t\t\n",
      "24\t\t\n",
      "27\t\t\n",
      "30\t\t\n",
      "\t\t\n",
      "4\t\t\n",
      "8\t\t\n",
      "12\t\t\n",
      "16\t\t\n",
      "20\t\t\n",
      "24\t\t\n",
      "28\t\t\n",
      "32\t\t\n",
      "36\t\t\n",
      "40\t\t\n",
      "\t\t\n",
      "5\t\t\n",
      "10\t\t\n",
      "15\t\t\n",
      "20\t\t\n",
      "25\t\t\n",
      "30\t\t\n",
      "35\t\t\n",
      "40\t\t\n",
      "45\t\t\n",
      "50\t\t\n",
      "\t\t\n",
      "6\t\t\n",
      "12\t\t\n",
      "18\t\t\n",
      "24\t\t\n",
      "30\t\t\n",
      "36\t\t\n",
      "42\t\t\n",
      "48\t\t\n",
      "54\t\t\n",
      "60\t\t\n",
      "\t\t\n",
      "7\t\t\n",
      "14\t\t\n",
      "21\t\t\n",
      "28\t\t\n",
      "35\t\t\n",
      "42\t\t\n",
      "49\t\t\n",
      "56\t\t\n",
      "63\t\t\n",
      "70\t\t\n",
      "\t\t\n",
      "8\t\t\n",
      "16\t\t\n",
      "24\t\t\n",
      "32\t\t\n",
      "40\t\t\n",
      "48\t\t\n",
      "56\t\t\n",
      "64\t\t\n",
      "72\t\t\n",
      "80\t\t\n",
      "\t\t\n",
      "9\t\t\n",
      "18\t\t\n",
      "27\t\t\n",
      "36\t\t\n",
      "45\t\t\n",
      "54\t\t\n",
      "63\t\t\n",
      "72\t\t\n",
      "81\t\t\n",
      "90\t\t\n",
      "\t\t\n",
      "10\t\t\n",
      "20\t\t\n",
      "30\t\t\n",
      "40\t\t\n",
      "50\t\t\n",
      "60\t\t\n",
      "70\t\t\n",
      "80\t\t\n",
      "90\t\t\n",
      "100\t\t\n",
      "\t\t\n"
     ]
    }
   ],
   "source": [
    "#Print multiplication table form 1 to 10\n",
    "for i in range (1,11):\n",
    "    for j in range(1,11):\n",
    "        print(i*j, end='')\n",
    "        print('\\t\\t')\n",
    "    print('\\t\\t')"
   ]
  },
  {
   "cell_type": "code",
   "execution_count": 74,
   "metadata": {},
   "outputs": [
    {
     "name": "stdout",
     "output_type": "stream",
     "text": [
      "* * * * * \t\n",
      "* * * * \t\n",
      "* * * \t\n",
      "* * \t\n",
      "* \t\n"
     ]
    }
   ],
   "source": [
    "'''\n",
    "* * * * *  \n",
    "* * * *  \n",
    "* * *  \n",
    "* *  \n",
    "*\n",
    "'''\n",
    "for i in range(5,0,-1):\n",
    "    for j in range(i):\n",
    "        print('* ',end='')\n",
    "    print('\\t')"
   ]
  },
  {
   "cell_type": "code",
   "execution_count": 8,
   "metadata": {},
   "outputs": [
    {
     "name": "stdout",
     "output_type": "stream",
     "text": [
      "625\n"
     ]
    }
   ],
   "source": [
    "'''Write a function called exponent(base, exp) that returns an int value of base raises to the power of exp.\n",
    "Note here exp is a non-negative integer, and the base is an integer.\n",
    "\n",
    "Expected Output:\n",
    "\n",
    "Case 1:\n",
    "\n",
    "base = 2\n",
    "exponent = 5\n",
    "\n",
    "2 raises to the power of 5 is: 32 i.e. (2 *2 * 2 *2 *2 = 32)'''\n",
    "def exponent(base, exp):\n",
    "    prod=1\n",
    "    while exp>0:\n",
    "        prod = prod*base\n",
    "        exp=exp-1\n",
    "    return prod\n",
    "check=exponent(5,4)\n",
    "print(check)"
   ]
  },
  {
   "cell_type": "code",
   "execution_count": 17,
   "metadata": {},
   "outputs": [
    {
     "name": "stdout",
     "output_type": "stream",
     "text": [
      "1 \n",
      "1 2 \n",
      "1 2 3 \n",
      "1 2 3 4 \n",
      "1 2 3 4 5 \n"
     ]
    }
   ],
   "source": [
    "'''\n",
    "1 \n",
    "1 2 \n",
    "1 2 3 \n",
    "1 2 3 4 \n",
    "1 2 3 4 5'''\n",
    "for i in range(1,6):\n",
    "    for j in range(1,i+1):\n",
    "        print(j,end=' ')\n",
    "    print('')"
   ]
  },
  {
   "cell_type": "code",
   "execution_count": 31,
   "metadata": {},
   "outputs": [
    {
     "name": "stdin",
     "output_type": "stream",
     "text": [
      "Enter number: 10\n"
     ]
    },
    {
     "name": "stdout",
     "output_type": "stream",
     "text": [
      "55\n"
     ]
    }
   ],
   "source": [
    "#Accept number from user and calculate the sum of all number between 1 and given number\n",
    "#For example user given 10 so the output should be 55\n",
    "'''num1= int(input(\"Enter number:\"))\n",
    "s=0\n",
    "for i in range(1,num1+1):\n",
    "    s= s+i\n",
    "    i=+1\n",
    "print(s)'''\n",
    "\n",
    "def sum_till_num(num1):\n",
    "    s=0\n",
    "    for i in range(1,num1+1):\n",
    "        s= s+i\n",
    "        i=+1\n",
    "    return s\n",
    "num1= int(input(\"Enter number:\"))\n",
    "result = print(sum_till_num(num1))"
   ]
  },
  {
   "cell_type": "code",
   "execution_count": 42,
   "metadata": {},
   "outputs": [
    {
     "name": "stdin",
     "output_type": "stream",
     "text": [
      "Enter number for table: 2\n"
     ]
    },
    {
     "name": "stdout",
     "output_type": "stream",
     "text": [
      "2 \t\n",
      "4 \t\n",
      "6 \t\n",
      "8 \t\n",
      "10 \t\n",
      "12 \t\n",
      "14 \t\n",
      "16 \t\n",
      "18 \t\n",
      "20 \t\n"
     ]
    }
   ],
   "source": [
    "#Print multiplication table of given number\n",
    "num2 = int(input(\"Enter number for table:\"))\n",
    "prod=1\n",
    "for i in range(1,11):\n",
    "    prod = num2*i\n",
    "    print(prod)"
   ]
  },
  {
   "cell_type": "code",
   "execution_count": 43,
   "metadata": {},
   "outputs": [
    {
     "name": "stdout",
     "output_type": "stream",
     "text": [
      "15\n",
      "55\n",
      "75\n",
      "150\n"
     ]
    }
   ],
   "source": [
    "'''Given a list iterate it and display numbers which are divisible by 5 and if you find number greater than 150\n",
    "stop the loop iteration\n",
    "list1 = [12, 15, 32, 42, 55, 75, 122, 132, 150, 180, 200]'''\n",
    "list1 = [12, 15, 32, 42, 55, 75, 122, 132, 150, 180, 200]\n",
    "for i in list1:\n",
    "    if i<=150:\n",
    "        if i%5==0:\n",
    "            print(i)\n",
    "    else:\n",
    "        break;"
   ]
  },
  {
   "cell_type": "code",
   "execution_count": 1,
   "metadata": {},
   "outputs": [
    {
     "name": "stdout",
     "output_type": "stream",
     "text": [
      "Enter number to count:67898\n",
      "5\n"
     ]
    }
   ],
   "source": [
    "'''Given a number count the total number of digits in a number\n",
    "For example, the number is 75869, so the output should be 5.'''\n",
    "dig1= int(input(\"Enter number to count:\"))\n",
    "org = dig1\n",
    "cnt = 0\n",
    "while dig1>0:\n",
    "    dig1=dig1//10\n",
    "    cnt=cnt+1\n",
    "print(cnt)"
   ]
  },
  {
   "cell_type": "code",
   "execution_count": 10,
   "metadata": {},
   "outputs": [
    {
     "name": "stdout",
     "output_type": "stream",
     "text": [
      "5 4 3 2 1 \n",
      "\n",
      "4 3 2 1 \n",
      "\n",
      "3 2 1 \n",
      "\n",
      "2 1 \n",
      "\n",
      "1 \n",
      "\n"
     ]
    }
   ],
   "source": [
    "'''\n",
    "5 4 3 2 1 \n",
    "4 3 2 1 \n",
    "3 2 1 \n",
    "2 1 \n",
    "1'''\n",
    "for i in range(5,0,-1):\n",
    "    for j in range(0,i):\n",
    "        print(i, end=' ')\n",
    "        i=i-1\n",
    "    print('\\n')"
   ]
  },
  {
   "cell_type": "code",
   "execution_count": 12,
   "metadata": {},
   "outputs": [
    {
     "name": "stdout",
     "output_type": "stream",
     "text": [
      "50\n",
      "40\n",
      "30\n",
      "20\n",
      "10\n"
     ]
    }
   ],
   "source": [
    "#Reverse the following list using for loop\n",
    "list1 = [10, 20, 30, 40, 50]\n",
    "rev = reversed(list1)\n",
    "for i in rev:\n",
    "    print(i)"
   ]
  },
  {
   "cell_type": "code",
   "execution_count": 16,
   "metadata": {},
   "outputs": [
    {
     "name": "stdout",
     "output_type": "stream",
     "text": [
      "-10\n",
      "-9\n",
      "-8\n",
      "-7\n",
      "-6\n",
      "-5\n",
      "-4\n",
      "-3\n",
      "-2\n",
      "-1\n"
     ]
    }
   ],
   "source": [
    "#Display -10 to -1 using for loop\n",
    "for i in range(-10,0):\n",
    "    print(i)"
   ]
  },
  {
   "cell_type": "code",
   "execution_count": 18,
   "metadata": {},
   "outputs": [
    {
     "name": "stdout",
     "output_type": "stream",
     "text": [
      "0\n",
      "1\n",
      "2\n",
      "3\n",
      "4\n",
      "Done!\n"
     ]
    }
   ],
   "source": [
    "'''Display a message “Done” after successful execution of for loop\n",
    "For example, the following loop will execute without any error.\n",
    "\n",
    "for i in range(5):\n",
    "    print(i)\n",
    "So the Expected output should be:\n",
    "\n",
    "0\n",
    "1\n",
    "2\n",
    "3\n",
    "4\n",
    "Done!'''\n",
    "for i in range(5):\n",
    "    print(i)\n",
    "else:\n",
    "    print('Done!')"
   ]
  },
  {
   "cell_type": "code",
   "execution_count": 30,
   "metadata": {
    "scrolled": false
   },
   "outputs": [
    {
     "name": "stdout",
     "output_type": "stream",
     "text": [
      "Enter starting of range:10\n",
      "Enter end range:20\n",
      "11\n",
      "13\n",
      "17\n",
      "19\n"
     ]
    }
   ],
   "source": [
    "#Python program to display all the prime numbers within a range\n",
    "\n",
    "start = int(input(\"Enter starting of range:\"))\n",
    "end = int(input(\"Enter end range:\"))\n",
    "for num in range(start,end+1):\n",
    "    if num>1:\n",
    "        for i in range(2,num):\n",
    "            if num%i==0:\n",
    "                break\n",
    "        else:\n",
    "            print(num)"
   ]
  },
  {
   "cell_type": "code",
   "execution_count": 37,
   "metadata": {},
   "outputs": [
    {
     "name": "stdout",
     "output_type": "stream",
     "text": [
      "0 1 1 2 3 5 8 13 21 34 "
     ]
    }
   ],
   "source": [
    "'''Display Fibonacci series up to 10 terms\n",
    "Expected output:\n",
    "\n",
    "Fibonacci sequence:\n",
    "0  1  1  2  3  5  8  13  21  34'''\n",
    "first=0\n",
    "sec = 1\n",
    "cnt=0\n",
    "while cnt<10:\n",
    "    temp = first+sec\n",
    "    print(first, end=' ')\n",
    "    first = sec\n",
    "    sec=temp\n",
    "    cnt+=1"
   ]
  },
  {
   "cell_type": "code",
   "execution_count": 50,
   "metadata": {},
   "outputs": [
    {
     "name": "stdout",
     "output_type": "stream",
     "text": [
      "Enter number to be reversed:234689\n",
      "986432\n"
     ]
    }
   ],
   "source": [
    "#Reverse a given integer number\n",
    "num = int(input(\"Enter number to be reversed:\"))\n",
    "rem = 0\n",
    "while num>0:\n",
    "    div = num%10\n",
    "    rem = (rem*10)+div\n",
    "    num = num//10\n",
    "print(rem)"
   ]
  },
  {
   "cell_type": "code",
   "execution_count": 64,
   "metadata": {},
   "outputs": [
    {
     "name": "stdout",
     "output_type": "stream",
     "text": [
      "20\n",
      "40\n",
      "60\n",
      "80\n",
      "100\n"
     ]
    }
   ],
   "source": [
    "#Use a loop to display elements from a given list which are present at even positions\n",
    "\n",
    "my_list = [10, 20, 30, 40, 50, 60, 70, 80, 90, 100]\n",
    "\n",
    "# for i in my_list:\n",
    "#     if (my_list.index(i)%2!=0):\n",
    "#         if my_list.index(i)<=10:\n",
    "#             print(i)\n",
    "\n",
    "for i in my_list[1::2]:\n",
    "    print(i)"
   ]
  },
  {
   "cell_type": "code",
   "execution_count": 5,
   "metadata": {},
   "outputs": [
    {
     "name": "stdout",
     "output_type": "stream",
     "text": [
      "Enter a number to find out factorial=6\n",
      "factorial =  720\n"
     ]
    }
   ],
   "source": [
    "#Write a loop to find the factorial of any number\n",
    "numb = int(input(\"Enter a number to find out factorial=\"))\n",
    "prod=numb\n",
    "if numb==0:\n",
    "    print('factorial = 1')\n",
    "else:\n",
    "    while numb>1:\n",
    "        prod = prod*(numb-1)\n",
    "        numb=numb-1\n",
    "    print('factorial = ',prod)"
   ]
  },
  {
   "cell_type": "code",
   "execution_count": 7,
   "metadata": {},
   "outputs": [
    {
     "name": "stdout",
     "output_type": "stream",
     "text": [
      "Enter a number:6\n",
      "cube of  0 =  0\n",
      "cube of  1 =  1\n",
      "cube of  2 =  8\n",
      "cube of  3 =  27\n",
      "cube of  4 =  64\n",
      "cube of  5 =  125\n",
      "cube of  6 =  216\n"
     ]
    }
   ],
   "source": [
    "#Display the cube of the number up to a given integer\n",
    "inte = int(input(\"Enter a number:\"))\n",
    "prod =1\n",
    "for i in range(inte+1):\n",
    "    prod = i*i*i\n",
    "    print('cube of ',i, '= ',prod)"
   ]
  },
  {
   "cell_type": "code",
   "execution_count": 27,
   "metadata": {},
   "outputs": [
    {
     "name": "stdout",
     "output_type": "stream",
     "text": [
      "Enter term=5\n",
      "24690\n"
     ]
    }
   ],
   "source": [
    "'''Find the sum of the series 2 +22 + 222 + 2222 + .. n terms\n",
    "Given:\n",
    "\n",
    "number_of_terms = 5\n",
    "\n",
    "So series will become 2 + 22 + 222 + 2222 + 22222\n",
    "\n",
    "Expected output:\n",
    "\n",
    "24690'''\n",
    "term = int(input(\"Enter term=\"))\n",
    "sum=0\n",
    "tot =sum\n",
    "while term>0:\n",
    "    for j in range(term):\n",
    "        sum = (sum*10)+2\n",
    "        tot=tot+sum\n",
    "        term = term-1\n",
    "print(tot)"
   ]
  },
  {
   "cell_type": "code",
   "execution_count": 38,
   "metadata": {},
   "outputs": [
    {
     "name": "stdout",
     "output_type": "stream",
     "text": [
      "Enter max star count=5\n",
      "\t\n",
      "* \t\n",
      "* * \t\n",
      "* * * \t\n",
      "* * * * \t\n",
      "* * * * * \t\n",
      "* * * * \t\n",
      "* * * \t\n",
      "* * \t\n",
      "* \t\n"
     ]
    }
   ],
   "source": [
    "'''* \n",
    "* * \n",
    "* * * \n",
    "* * * * \n",
    "* * * * * \n",
    "* * * * \n",
    "* * * \n",
    "* * \n",
    "*'''\n",
    "plt= int(input(\"Enter max star count=\"))\n",
    "for i in range(plt+1):\n",
    "    for j in range(i):\n",
    "        print('*',end=' ')\n",
    "    print('\\t')\n",
    "for i in range(plt-1,0,-1):\n",
    "    for j in range(i):\n",
    "        print('*',end =' ')\n",
    "    print('\\t')"
   ]
  },
  {
   "cell_type": "code",
   "execution_count": 7,
   "metadata": {},
   "outputs": [
    {
     "name": "stdout",
     "output_type": "stream",
     "text": [
      "MyonameoisoAnkita\n",
      "876.88\n"
     ]
    }
   ],
   "source": [
    "print('My','name','is','Ankita',sep='o')\n",
    "print('%.2f'%876.878760)"
   ]
  },
  {
   "cell_type": "code",
   "execution_count": 31,
   "metadata": {},
   "outputs": [
    {
     "name": "stdout",
     "output_type": "stream",
     "text": [
      "1 1.0\n",
      "2 2.0\n",
      "3 2.5\n",
      "4 2.6666666666666665\n",
      "5 2.708333333333333\n",
      "6 2.7166666666666663\n",
      "7 2.7180555555555554\n"
     ]
    }
   ],
   "source": [
    "#1/1! + 2/2! + 3/3! + 4/4! +…….+ n/n!\n",
    "# def facto(num):\n",
    "#     prod=1\n",
    "#     for i in range(1,num+1):\n",
    "#         prod = prod*i\n",
    "#     return(prod)\n",
    "# sum=0\n",
    "# n= int(input(\"Enter term=\"))\n",
    "# for i in range(1,n+1):\n",
    "#     call_facto = facto(i)\n",
    "#     sum=sum+(i/call_facto)\n",
    "#     print(i,sum)\n",
    "\n",
    "def facto(num):\n",
    "    prod=1\n",
    "    res=0\n",
    "    for i in range(1,num+1):\n",
    "        prod = prod*i\n",
    "        res=res+(i/prod)\n",
    "        print(i,res)\n",
    "facto(7)"
   ]
  }
 ],
 "metadata": {
  "kernelspec": {
   "display_name": "Python 3",
   "language": "python",
   "name": "python3"
  },
  "language_info": {
   "codemirror_mode": {
    "name": "ipython",
    "version": 3
   },
   "file_extension": ".py",
   "mimetype": "text/x-python",
   "name": "python",
   "nbconvert_exporter": "python",
   "pygments_lexer": "ipython3",
   "version": "3.7.6"
  }
 },
 "nbformat": 4,
 "nbformat_minor": 4
}
